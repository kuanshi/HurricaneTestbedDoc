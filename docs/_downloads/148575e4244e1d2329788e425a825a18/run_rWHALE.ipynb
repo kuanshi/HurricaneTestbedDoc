{
 "cells": [
  {
   "cell_type": "code",
   "execution_count": 1,
   "metadata": {
    "scrolled": true
   },
   "outputs": [],
   "source": [
    "from agavepy.agave import Agave\n",
    "ag = Agave.restore()\n",
    "rWHALE = ag.apps.get(appId='rWhale-2.1.0') #\n"
   ]
  },
  {
   "cell_type": "code",
   "execution_count": 2,
   "metadata": {},
   "outputs": [
    {
     "data": {
      "text/plain": [
       "{'name': 'RDT_512_4_2x1_KNL_1',\n",
       " 'appId': 'rWhale-2.1.0',\n",
       " 'maxRunTime': '00:20:00',\n",
       " 'nodeCount': 4,\n",
       " 'processorsPerNode': 256,\n",
       " 'batchQueue': 'normal',\n",
       " 'archive': True,\n",
       " 'archiveSystem': 'designsafe.storage.default',\n",
       " 'parameters': {'buildingsCount': '20',\n",
       "  'buildingsPerTask': '2',\n",
       "  'firstBuilding': '1'},\n",
       " 'inputs': {'dataFiles': ['agave://designsafe.storage.default/UserName/input_data.zip',\n",
       "   'agave://designsafe.storage.default/UserName/CreateLauncherTasks.py'],\n",
       "  'configFile': 'agave://designsafe.storage.default/UserName/rWHALE_config.json'}}"
      ]
     },
     "execution_count": 2,
     "metadata": {},
     "output_type": "execute_result"
    }
   ],
   "source": [
    "first_ID = 1\n",
    "\n",
    "bpt = 2  # buildings per task\n",
    "tpn = 1  # task per node\n",
    "\n",
    "kind = 'KNL'\n",
    "#kind = 'SKX'\n",
    "\n",
    "if kind == 'KNL':\n",
    "    nodes = 4\n",
    "    ppn = 64\n",
    "    #ppn = 10\n",
    "    #queue = 'development'\n",
    "    queue = 'normal'\n",
    "elif 'SKX':\n",
    "    nodes = 1\n",
    "    ppn=48\n",
    "    #ppn = 10\n",
    "    queue = 'skx-dev'\n",
    "    #queue = 'skx-normal'\n",
    "    \n",
    "jobdetails = {\n",
    "\t\"name\": f\"RDT_{nodes*bpt*ppn*tpn}_{nodes}_{bpt}x{tpn}_{kind}_{first_ID}\",\n",
    "\t\"appId\": \"rWhale-2.1.0\",\n",
    "    # \"rWhale-2.1.0\"\n",
    "    #\"appId\": \"rWHALE_Adam-2.0.2\",\n",
    "\t\"maxRunTime\": \"00:20:00\",\n",
    "\t\"nodeCount\": nodes,\n",
    "    \"processorsPerNode\": nodes*ppn,\n",
    "    \"batchQueue\": queue,\n",
    "\t\"archive\": True,\n",
    "\t\"archiveSystem\": \"designsafe.storage.default\",\n",
    "\t\"parameters\": {\n",
    "        \"buildingsCount\": '20',\n",
    "        \"buildingsPerTask\": f'{bpt}',\n",
    "        \"firstBuilding\": f'{first_ID}'\n",
    "    },\n",
    "\t\"inputs\": {\n",
    "        \"dataFiles\": [\"agave://designsafe.storage.default/UserName/input_data.zip\",\n",
    "                      \"agave://designsafe.storage.default/UserName/CreateLauncherTasks.py\"],\n",
    "        \"configFile\": \"agave://designsafe.storage.default/UserName/rWHALE_config.json\"\n",
    "        \n",
    "        \n",
    "\t\t}\n",
    "}\n",
    "jobdetails"
   ]
  },
  {
   "cell_type": "code",
   "execution_count": 3,
   "metadata": {
    "scrolled": false
   },
   "outputs": [
    {
     "data": {
      "text/plain": [
       "{'id': '9be3904a-2a35-4ff0-aba0-b9a6463f686c-007',\n",
       " 'name': 'RDT_512_4_2x1_KNL_1',\n",
       " 'tenantId': 'designsafe',\n",
       " 'tenantQueue': 'aloe.jobq.designsafe.submit.DefaultQueue',\n",
       " 'status': 'ACCEPTED',\n",
       " 'lastStatusMessage': 'JOBS_ACCEPTED Job accepted for processing.',\n",
       " 'accepted': '2020-10-22T22:19:33.389Z',\n",
       " 'created': '2020-10-22T22:19:33.397Z',\n",
       " 'ended': None,\n",
       " 'lastUpdated': '2020-10-22T22:19:33.397Z',\n",
       " 'owner': 'zouj',\n",
       " 'roles': 'Internal/TACC_zouj_DefaultApplication_PRODUCTION,Internal/TACC_zouj_appClient_PRODUCTION,Internal/everyone,Internal/TACC_zouj__cli-designsafe-zouj-desktop-dp91vf5.localdomain_PRODUCTION',\n",
       " 'systemId': None,\n",
       " 'appId': 'rWhale-2.1.0',\n",
       " 'appUuid': '9001929359971511830-242ac116-0001-005',\n",
       " 'workPath': None,\n",
       " 'archive': True,\n",
       " 'archiveOnAppError': False,\n",
       " 'archivePath': None,\n",
       " 'archiveSystem': 'designsafe.storage.default',\n",
       " 'nodeCount': 4,\n",
       " 'processorsPerNode': 64,\n",
       " 'memoryPerNode': 0.0,\n",
       " 'maxHours': 0.33,\n",
       " 'inputs': {'dataFiles': ['agave://designsafe.storage.default/UserName/input_data.zip',\n",
       "   'agave://designsafe.storage.default/UserName/CreateLauncherTasks.py'],\n",
       "  'configFile': 'agave://designsafe.storage.default/UserName/rWHALE_config.json'},\n",
       " 'parameters': {'buildingsCount': '20',\n",
       "  'buildingsPerTask': '2',\n",
       "  'firstBuilding': '1'},\n",
       " 'remoteJobId': None,\n",
       " 'schedulerJobId': None,\n",
       " 'remoteQueue': 'normal',\n",
       " 'remoteSubmitted': None,\n",
       " 'remoteStarted': None,\n",
       " 'remoteEnded': None,\n",
       " 'remoteOutcome': None,\n",
       " 'submitRetries': 0,\n",
       " 'remoteStatusChecks': 0,\n",
       " 'failedStatusChecks': 0,\n",
       " 'lastStatusCheck': None,\n",
       " 'blockedCount': 0,\n",
       " 'visible': True,\n",
       " '_links': {'self': {'href': 'https://agave.designsafe-ci.org/jobs/v2/9be3904a-2a35-4ff0-aba0-b9a6463f686c-007'},\n",
       "  'app': {'href': 'https://agave.designsafe-ci.org/apps/v2/rWhale-2.1.0'},\n",
       "  'executionSystem': {},\n",
       "  'archiveSystem': {'href': 'https://agave.designsafe-ci.org/systems/v2/designsafe.storage.default'},\n",
       "  'archiveData': {'href': 'https://agave.designsafe-ci.org/jobs/v2/9be3904a-2a35-4ff0-aba0-b9a6463f686c-007/outputs/listings'},\n",
       "  'owner': {'href': 'https://agave.designsafe-ci.org/profiles/v2/zouj'},\n",
       "  'permissions': {'href': 'https://agave.designsafe-ci.org/jobs/v2/9be3904a-2a35-4ff0-aba0-b9a6463f686c-007/pems'},\n",
       "  'history': {'href': 'https://agave.designsafe-ci.org/jobs/v2/9be3904a-2a35-4ff0-aba0-b9a6463f686c-007/history'},\n",
       "  'metadata': {'href': 'https://agave.designsafe-ci.org/meta/v2/data/?q=%7B%22associationIds%22%3A%229be3904a-2a35-4ff0-aba0-b9a6463f686c-007%22%7D'},\n",
       "  'notifications': {'href': 'https://agave.designsafe-ci.org/notifications/v2/?associatedUuid=9be3904a-2a35-4ff0-aba0-b9a6463f686c-007'},\n",
       "  'notification': []}}"
      ]
     },
     "execution_count": 3,
     "metadata": {},
     "output_type": "execute_result"
    }
   ],
   "source": [
    "job = ag.jobs.submit(body=jobdetails)\n",
    "job"
   ]
  },
  {
   "cell_type": "code",
   "execution_count": null,
   "metadata": {},
   "outputs": [],
   "source": []
  }
 ],
 "metadata": {
  "kernelspec": {
   "display_name": "Python 3",
   "language": "python",
   "name": "python3"
  },
  "language_info": {
   "codemirror_mode": {
    "name": "ipython",
    "version": 3
   },
   "file_extension": ".py",
   "mimetype": "text/x-python",
   "name": "python",
   "nbconvert_exporter": "python",
   "pygments_lexer": "ipython3",
   "version": "3.6.8"
  }
 },
 "nbformat": 4,
 "nbformat_minor": 2
}
